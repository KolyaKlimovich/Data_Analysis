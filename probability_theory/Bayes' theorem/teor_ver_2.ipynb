{
 "cells": [
  {
   "cell_type": "markdown",
   "metadata": {},
   "source": [
    "**Из 500 компьютеров  180 принадлежат к 1 партии, 170 – ко второй партии, остальные к третьей. В первой партии 3% брака, во второй — 2%, в третьей – 6%. Случайно выбирается один компьютер. Определить вероятность того, что выбранный компьютер – бракованный.  Округлите полученный ответ до десятитысячных.**"
   ]
  },
  {
   "cell_type": "markdown",
   "metadata": {},
   "source": [
    "![img](./Screenshot_4.png)"
   ]
  },
  {
   "cell_type": "code",
   "execution_count": 40,
   "metadata": {},
   "outputs": [],
   "source": [
    "n = 500 # общее количество компьютеров\n",
    "Y1 = 180 # первая партия\n",
    "Y2 = 170 # вторая партия\n",
    "Y3 = 150 # третья партия\n",
    "X1 = 0.03 # вероятность брака в первой партии\n",
    "X2 = 0.02 # вероятность брака во второй партии\n",
    "X3 = 0.06 # вероятность брака в третьей партии"
   ]
  },
  {
   "cell_type": "code",
   "execution_count": 45,
   "metadata": {},
   "outputs": [],
   "source": [
    "P = Y1/n*X1 + Y2/n*X2 + Y3/n*X3"
   ]
  },
  {
   "cell_type": "code",
   "execution_count": 46,
   "metadata": {},
   "outputs": [
    {
     "data": {
      "text/plain": [
       "0.0356"
      ]
     },
     "execution_count": 46,
     "metadata": {},
     "output_type": "execute_result"
    }
   ],
   "source": [
    "round(P, 4)"
   ]
  },
  {
   "cell_type": "code",
   "execution_count": null,
   "metadata": {},
   "outputs": [],
   "source": []
  },
  {
   "cell_type": "markdown",
   "metadata": {},
   "source": [
    "**Есть компания с программистами. В ней на языке Java пишут в 3 раза больше человек, чем на языке C++. Программистов на языке C++ в 4 раза больше, чем на Python. Вероятность сделать работу за один день для Java-программиста — 0,85, для программиста на языке C++ 0,9, а для Python программиста 0,8. Найти вероятность того, что программист, выбранный наугад, сделает работу за один день. Ответ округлите до сотых.**"
   ]
  },
  {
   "cell_type": "code",
   "execution_count": 105,
   "metadata": {},
   "outputs": [],
   "source": [
    "Y1 = 1/17 # x + 4x + 3 * 4 = 17x = x/17x = 1/17 питонистов\n",
    "Y2 = 12/17 # 3 * 4x/17x джава программистов\n",
    "Y3 = 4/17 # 4x/17x C++ программистов\n",
    "X1 = 0.8 # вероятность сделать работу за дежнь Python\n",
    "X2 = 0.85 # вероятность сделать работу за дежнь Java\n",
    "X3 = 0.9 # вероятность сделать работу за дежнь C++"
   ]
  },
  {
   "cell_type": "code",
   "execution_count": 106,
   "metadata": {},
   "outputs": [],
   "source": [
    "P = Y1*X1 + Y2*X2 + Y3*X3"
   ]
  },
  {
   "cell_type": "code",
   "execution_count": 107,
   "metadata": {},
   "outputs": [
    {
     "data": {
      "text/plain": [
       "0.86"
      ]
     },
     "execution_count": 107,
     "metadata": {},
     "output_type": "execute_result"
    }
   ],
   "source": [
    "round(P, 2)"
   ]
  },
  {
   "cell_type": "code",
   "execution_count": null,
   "metadata": {},
   "outputs": [],
   "source": []
  },
  {
   "cell_type": "markdown",
   "metadata": {},
   "source": [
    "**Из 40 снайперов 18 попадает в цель с вероятностью 0,9, 8 — с вероятностью 0,4 и 14 – с вероятностью 0,7. Случайно выбранный снайпер произвел выстрел, поразив цель. Мы хотим вычислить, снайпер из какой группы наиболее вероятно совершил этот выстрел. \n",
    "В ответ запишите наибольшую вероятность, округленную до тысячных.**"
   ]
  },
  {
   "cell_type": "markdown",
   "metadata": {},
   "source": [
    "![img](./Screenshot_6.png)"
   ]
  },
  {
   "cell_type": "code",
   "execution_count": 196,
   "metadata": {},
   "outputs": [],
   "source": [
    "n = 40 # общее количество снайперов\n",
    "Y1 = 18 # первая группа\n",
    "Y2 = 8 # вторая группа\n",
    "Y3 = 14 # третья группа\n",
    "X1 = 0.9 # вероятность попадания в первой группе\n",
    "X2 = 0.4 # вероятность попадания во второй группе\n",
    "X3 = 0.7 # вероятность попадания в третьей группе"
   ]
  },
  {
   "cell_type": "code",
   "execution_count": 199,
   "metadata": {},
   "outputs": [],
   "source": [
    "P_1 =  (Y1/n * X1) / (Y1/n*X1 + Y2/n*X2 + Y3/n*X3)"
   ]
  },
  {
   "cell_type": "code",
   "execution_count": 200,
   "metadata": {},
   "outputs": [
    {
     "data": {
      "text/plain": [
       "0.555"
      ]
     },
     "execution_count": 200,
     "metadata": {},
     "output_type": "execute_result"
    }
   ],
   "source": [
    "round(P_1, 3)"
   ]
  },
  {
   "cell_type": "code",
   "execution_count": 201,
   "metadata": {},
   "outputs": [],
   "source": [
    "P_2 =  (Y2/n * X2) / (Y1/n*X1 + Y2/n*X2 + Y3/n*X3)"
   ]
  },
  {
   "cell_type": "code",
   "execution_count": 202,
   "metadata": {},
   "outputs": [
    {
     "data": {
      "text/plain": [
       "0.11"
      ]
     },
     "execution_count": 202,
     "metadata": {},
     "output_type": "execute_result"
    }
   ],
   "source": [
    "round(P_2, 3)"
   ]
  },
  {
   "cell_type": "code",
   "execution_count": 203,
   "metadata": {},
   "outputs": [],
   "source": [
    "P_3 =  (Y3/n * X3) / (Y1/n*X1 + Y2/n*X2 + Y3/n*X3)"
   ]
  },
  {
   "cell_type": "code",
   "execution_count": 195,
   "metadata": {},
   "outputs": [
    {
     "data": {
      "text/plain": [
       "0.336"
      ]
     },
     "execution_count": 195,
     "metadata": {},
     "output_type": "execute_result"
    }
   ],
   "source": [
    "round(P_3, 3)"
   ]
  },
  {
   "cell_type": "code",
   "execution_count": null,
   "metadata": {},
   "outputs": [],
   "source": []
  },
  {
   "cell_type": "markdown",
   "metadata": {},
   "source": [
    "**Есть 4 кубика. На трех из них окрашена белым половина граней, а на четвертом кубике всего одна грань из шести белая. Наудачу выбранный кубик подбрасывается семь раз. Найти вероятность того, что был выбран четвертый кубик, если при семи подбрасываниях белая грань выпала ровно один раз.  Ответ округлите до тысячных.**"
   ]
  },
  {
   "cell_type": "code",
   "execution_count": 10,
   "metadata": {},
   "outputs": [],
   "source": [
    "from math import factorial"
   ]
  },
  {
   "cell_type": "code",
   "execution_count": 11,
   "metadata": {},
   "outputs": [],
   "source": [
    "def num_of_successes(n, k):\n",
    "    return factorial(n)/(factorial(k) * factorial(n - k))"
   ]
  },
  {
   "cell_type": "code",
   "execution_count": 14,
   "metadata": {},
   "outputs": [],
   "source": [
    "# кубики с половиной белых граней\n",
    "n_1 = 7 # общее количество бросков\n",
    "k_1 = 1 # количество подбрасываний\n",
    "p_1 = 3/6 # вероятность выпада белой грани\n",
    "q_1 = 1 - p_1 # Вероятность не белой"
   ]
  },
  {
   "cell_type": "code",
   "execution_count": 15,
   "metadata": {},
   "outputs": [],
   "source": [
    "Cnk_1 = num_of_successes(n_1 ,k_1)"
   ]
  },
  {
   "cell_type": "code",
   "execution_count": 16,
   "metadata": {},
   "outputs": [],
   "source": [
    "P_1 = Cnk_1*p_1**k_1*q_1**(n_1-k_1)"
   ]
  },
  {
   "cell_type": "code",
   "execution_count": 17,
   "metadata": {},
   "outputs": [
    {
     "data": {
      "text/plain": [
       "0.0546875"
      ]
     },
     "execution_count": 17,
     "metadata": {},
     "output_type": "execute_result"
    }
   ],
   "source": [
    "P_1"
   ]
  },
  {
   "cell_type": "code",
   "execution_count": 20,
   "metadata": {},
   "outputs": [],
   "source": [
    "# кубик с одной белой гранью\n",
    "n_2 = 7 # общее количество бросков\n",
    "k_2 = 1 # количество белых граней\n",
    "p_2 = 1/6 # вероятность выпада белой грани\n",
    "q_2 = 1 - p_2 # Вероятность не белой"
   ]
  },
  {
   "cell_type": "code",
   "execution_count": 21,
   "metadata": {},
   "outputs": [],
   "source": [
    "Cnk_2 = num_of_successes(n_2 ,k_2)"
   ]
  },
  {
   "cell_type": "code",
   "execution_count": 22,
   "metadata": {},
   "outputs": [],
   "source": [
    "P_2 = Cnk_2*p_2**k_2*q_2**(n_2-k_2)"
   ]
  },
  {
   "cell_type": "code",
   "execution_count": 23,
   "metadata": {},
   "outputs": [
    {
     "data": {
      "text/plain": [
       "0.39071430612711483"
      ]
     },
     "execution_count": 23,
     "metadata": {},
     "output_type": "execute_result"
    }
   ],
   "source": [
    "P_2"
   ]
  },
  {
   "cell_type": "code",
   "execution_count": 24,
   "metadata": {},
   "outputs": [],
   "source": [
    "n = 4 # общее количество кубиков\n",
    "Y1 = 3 # половина граней белая\n",
    "Y2 = 1 # одна грань белая\n",
    "X1 = P_1 # вероятность выпадания белой грани на трех кубиках\n",
    "X2 = P_2 # вероятность выпадания белой грани на одном кубике"
   ]
  },
  {
   "cell_type": "code",
   "execution_count": 25,
   "metadata": {},
   "outputs": [],
   "source": [
    "P_total_1 = (Y1/n * X1) / (Y1/n*X1 + Y2/n*X2) #"
   ]
  },
  {
   "cell_type": "code",
   "execution_count": 26,
   "metadata": {},
   "outputs": [
    {
     "data": {
      "text/plain": [
       "0.29572703506715947"
      ]
     },
     "execution_count": 26,
     "metadata": {},
     "output_type": "execute_result"
    }
   ],
   "source": [
    "P_total_1 # выбран один из трех кубиков перой группы, при семи подбрасываниях белая грань выпала ровно один раз"
   ]
  },
  {
   "cell_type": "code",
   "execution_count": 27,
   "metadata": {},
   "outputs": [],
   "source": [
    "P_total_2 = (Y2/n * X2) / (Y1/n*X1 + Y2/n*X2)"
   ]
  },
  {
   "cell_type": "code",
   "execution_count": 29,
   "metadata": {},
   "outputs": [
    {
     "data": {
      "text/plain": [
       "0.704"
      ]
     },
     "execution_count": 29,
     "metadata": {},
     "output_type": "execute_result"
    }
   ],
   "source": [
    "round(P_total_2, 3) # выбран четвертый кубик, при семи подбрасываниях белая грань выпала ровно один раз"
   ]
  },
  {
   "cell_type": "code",
   "execution_count": null,
   "metadata": {},
   "outputs": [],
   "source": []
  },
  {
   "cell_type": "markdown",
   "metadata": {},
   "source": [
    "**На гитхабе лежит 12 скриптов, написанных аналитиком №1, 20 скриптов — написанных аналитиком №2 и 18 скриптов — написанных аналитиком №3. Вероятность того, что скрипт, написанный аналитиком №1, работает  без ошибок, равна 0,9; для скриптов, написанных аналитиками  №2 и №3, эти вероятности соответственно равны 0,6 и 0,9.**\n",
    "\n",
    "**Нужно найти вероятность того, что случайно взятый скрипт будет работать без ошибок. В ответ запишите число, округленное до сотых.**"
   ]
  },
  {
   "cell_type": "code",
   "execution_count": 37,
   "metadata": {},
   "outputs": [],
   "source": [
    "n = 50 # общее количество скриптов\n",
    "Y1 = 12 # аналитик №1\n",
    "Y2 = 20 # аналитик №2\n",
    "Y3 = 18 # аналитик №3\n",
    "X1 = 0.9 # Вероятность того, что скрипт, написанный аналитиком №1, работает без ошибок\n",
    "X2 = 0.6 # Вероятность того, что скрипт, написанный аналитиком №2, работает без ошибок\n",
    "X3 = 0.9 # Вероятность того, что скрипт, написанный аналитиком №3, работает без ошибок"
   ]
  },
  {
   "cell_type": "code",
   "execution_count": 38,
   "metadata": {},
   "outputs": [],
   "source": [
    "P = Y1/n*X1 + Y2/n*X2 + Y3/n*X3"
   ]
  },
  {
   "cell_type": "code",
   "execution_count": 39,
   "metadata": {},
   "outputs": [
    {
     "data": {
      "text/plain": [
       "0.78"
      ]
     },
     "execution_count": 39,
     "metadata": {},
     "output_type": "execute_result"
    }
   ],
   "source": [
    "round(P, 2)"
   ]
  },
  {
   "cell_type": "code",
   "execution_count": null,
   "metadata": {},
   "outputs": [],
   "source": []
  },
  {
   "cell_type": "markdown",
   "metadata": {},
   "source": [
    "**Известно, что около 60% всех людей в городе болеют заболеванием А. Для определения того, заболел человек или нет, проводится тест, точность которого составляет 99%. Вы получили положительный тест, какова вероятность того, что вы реально больны? Округлите ответ до тысячных.**"
   ]
  },
  {
   "cell_type": "markdown",
   "metadata": {},
   "source": [
    "Что нам надо посчитать:\n",
    "\n",
    "- **P(Y|X)** - вероятность, что мы реально больны, если тест положительный (**то, что мы ищем в задаче**)\n",
    "- **P(X|Y)** - вероятность, что тест будет положительный, если мы заболеем (**точность теста, указана в условии**)\n",
    "- **P(Y)** - вероятность заболеть (**также указана в условии**)\n",
    "- **P(X)** - вероятность того, что тест положительный (**считаем по аналогии с прошлыми задачами**)"
   ]
  },
  {
   "cell_type": "code",
   "execution_count": 1,
   "metadata": {},
   "outputs": [],
   "source": [
    "P_X_Y = 0.99 # точность теста\n",
    "P_X_nY = 0.01 # погрешность\n",
    "P_Y = 0.6 # больных в городе\n",
    "P_nY = 0.4 # здоровых\n",
    "\n",
    "P_X = P_Y*P_X_Y + P_nY*P_X_nY # погрешность"
   ]
  },
  {
   "cell_type": "code",
   "execution_count": 2,
   "metadata": {},
   "outputs": [],
   "source": [
    "P_Y_X = P_Y*P_X_Y / P_X # вероятность, что мы реально больны, если тест положительный"
   ]
  },
  {
   "cell_type": "code",
   "execution_count": 3,
   "metadata": {},
   "outputs": [
    {
     "data": {
      "text/plain": [
       "0.993"
      ]
     },
     "execution_count": 3,
     "metadata": {},
     "output_type": "execute_result"
    }
   ],
   "source": [
    "round(P_Y_X, 3)"
   ]
  },
  {
   "cell_type": "code",
   "execution_count": null,
   "metadata": {},
   "outputs": [],
   "source": []
  },
  {
   "cell_type": "markdown",
   "metadata": {},
   "source": [
    "**Три фабрики производят лампочки. Фабрика А производит 20% всех лампочек, 50% лампочек производится на фабрике В и оставшиеся 30% на фабрике С. 2% лампочек, произведенных на фабрике А, 1% лампочек, произведенных на фабрике В, и 3% лампочек, произведенных на фабрике С, являются бракованными.На рынке наугад выбирается лампочка и оказывается бракованной. Какова вероятность того, что эта лампочка была произведена на заводе B? Ответ округлите до тысячных.**"
   ]
  },
  {
   "cell_type": "markdown",
   "metadata": {},
   "source": [
    "- **P(Y|X)** - вероятность, что **именно эту** бракованную лампочку сделали на заводе B (**то, что мы ищем в задаче**)\n",
    "- **P(X|Y)** - вероятность, что завод B в принципе сделает бракованную лампочку (**указана в условии**)\n",
    "- **P(Y)** - вероятность того, что лампочка (любая) сделана на заводе B (**также указана в условии**)\n",
    "- **P(X)** - вероятность найти бракованную лампочку из всех возможных вариантов (**считаем по аналогии с прошлыми задачами, учитываем все три завода с их вероятностями брака и количеством продукции**)"
   ]
  },
  {
   "cell_type": "code",
   "execution_count": 25,
   "metadata": {},
   "outputs": [],
   "source": [
    "P_X_Y_1 = 0.01 # бракованных лампочек завода B\n",
    "P_X_Y_2 = 0.02 # бракованных лампочек завода A\n",
    "P_X_Y_3 = 0.03 # бракованных лампочек завода C\n",
    "\n",
    "P_X_nY_1 = 0.99 #  Вероятность что лампочка с завода B не бракованна\n",
    "P_X_nY_2 = 0.98 #  Вероятность что лампочка с завода A не бракованна\n",
    "P_X_nY_3 = 0.97 #  Вероятность что лампочка с завода C не бракованна\n",
    "\n",
    "P_Y_1 = 0.5 # вероятность что лампочка с завода B\n",
    "P_nY_1 = 0.5 # что не с завода B\n",
    "P_Y_2 = 0.2 # вероятность что лампочка с завода A\n",
    "P_nY_2 = 0.8 # что не с завода A\n",
    "P_Y_3 = 0.3 # вероятность что лампочка с завода C\n",
    "P_nY_3 = 0.7 # что не с завода C\n",
    "\n",
    "\n",
    "P_X = P_Y_1*P_X_Y_1 + P_Y_2*P_X_Y_2 + P_Y_3*P_X_Y_3 # вероятность найти бракованную лампочку из всех возможных вариантов"
   ]
  },
  {
   "cell_type": "code",
   "execution_count": 26,
   "metadata": {},
   "outputs": [],
   "source": [
    "P_Y_X = P_Y_1*P_X_Y_1 / P_X # вероятность, что именно эту бракованную лампочку сделали на заводе B"
   ]
  },
  {
   "cell_type": "code",
   "execution_count": 27,
   "metadata": {},
   "outputs": [
    {
     "data": {
      "text/plain": [
       "0.278"
      ]
     },
     "execution_count": 27,
     "metadata": {},
     "output_type": "execute_result"
    }
   ],
   "source": [
    "round(P_Y_X, 3)"
   ]
  },
  {
   "cell_type": "code",
   "execution_count": null,
   "metadata": {},
   "outputs": [],
   "source": []
  },
  {
   "cell_type": "markdown",
   "metadata": {},
   "source": [
    "**Система РЛС (радиолокационная система) может обнаружить присутствие самолета в 98% случаев. Однако если в зоне действия радара нет самолета, система все равно сообщает (ложно), что самолет присутствует, в 5% случаев. В любой момент времени вероятность того, что самолет находится в зоне действия радара, составляет 7%.Какова вероятность того, что самолет находится в зоне действия радара, учитывая, что на радаре нет самолета?\n",
    "Ответ округлите до десятитысячных.**"
   ]
  },
  {
   "cell_type": "markdown",
   "metadata": {},
   "source": [
    "- **P(Y|X)** - вероятность, что самолёт есть, если радар его не видит (**то, что мы ищем в задаче**)\n",
    "- **P(X|Y)** - вероятность, что радар ничего не увидит, если самолёт прилетит (**в условии указана обратная вероятность - что радар увидит реально летящий самолёт**)\n",
    "- **P(Y)** - вероятность, что самолёт в принципе может залететь в область радара (**также указана в условии**)\n",
    "- **P(X)** - вероятность того, что самолёт не будет видно на радаре в принципе (**считаем по аналогии с прошлыми задачами, учитываем указанную в условии вероятность ложноположительного срабатывания, но про ложноотрицательное тоже не забывайте**)"
   ]
  },
  {
   "cell_type": "code",
   "execution_count": 27,
   "metadata": {},
   "outputs": [],
   "source": [
    "P_X_Y = 1 - 0.98 # вероятность, что радар ничего не увидит, если самолёт прилетит\n",
    "P_X_nY = 1 - 0.05 # вероятность того, что самолет не обнаружат, если его реально нет в зоне\n",
    "P_Y = 0.07 #  вероятность того, что самолет находится в зоне действия радара\n",
    "P_nY = 0.93 # вероятность того, что самолет не находится в зоне действия радара\n",
    "\n",
    "P_X = P_nY*P_X_Y + P_nY*P_X_nY # вероятность того, что самолёт не будет видно на радаре в принципе"
   ]
  },
  {
   "cell_type": "code",
   "execution_count": 28,
   "metadata": {},
   "outputs": [],
   "source": [
    "P_Y_X = P_Y*P_X_Y / P_X # вероятность, что самолёт есть, если радар его не видит"
   ]
  },
  {
   "cell_type": "code",
   "execution_count": 29,
   "metadata": {},
   "outputs": [
    {
     "data": {
      "text/plain": [
       "0.0016"
      ]
     },
     "execution_count": 29,
     "metadata": {},
     "output_type": "execute_result"
    }
   ],
   "source": [
    "round(P_Y_X, 4)"
   ]
  },
  {
   "cell_type": "code",
   "execution_count": null,
   "metadata": {},
   "outputs": [],
   "source": []
  },
  {
   "cell_type": "markdown",
   "metadata": {},
   "source": [
    "**Система РЛС (радиолокационная система) может обнаружить присутствие самолета в 98% случаев. Однако если в зоне действия радара нет самолета, система все равно сообщает (ложно), что самолет присутствует, в 5% случаев. В любой момент времени вероятность того, что самолет находится в зоне действия радара, составляет 7%.Какова вероятность того, что самолет находится в зоне действия радара, учитывая, что радар показывает наличие самолета? Ответ округлите до тысячных.**"
   ]
  },
  {
   "cell_type": "code",
   "execution_count": 32,
   "metadata": {},
   "outputs": [],
   "source": [
    "P_X_Y = 0.98 # вероятность, что радар увидит, если самолёт прилетит\n",
    "P_X_nY = 0.05 # ложное срабатывание\n",
    "P_Y = 0.07 #  вероятность того, что самолет находится в зоне действия радара\n",
    "P_nY = 0.93 # вероятность того, что самолет не находится в зоне действия радара\n",
    "\n",
    "P_X = P_Y*P_X_Y + P_nY*P_X_nY # вероятность того, что самолёт не будет видно на радаре в принципе"
   ]
  },
  {
   "cell_type": "code",
   "execution_count": 33,
   "metadata": {},
   "outputs": [],
   "source": [
    "P_Y_X = P_Y*P_X_Y / P_X"
   ]
  },
  {
   "cell_type": "code",
   "execution_count": 34,
   "metadata": {},
   "outputs": [
    {
     "data": {
      "text/plain": [
       "0.596"
      ]
     },
     "execution_count": 34,
     "metadata": {},
     "output_type": "execute_result"
    }
   ],
   "source": [
    "round(P_Y_X, 3)"
   ]
  },
  {
   "cell_type": "code",
   "execution_count": null,
   "metadata": {},
   "outputs": [],
   "source": []
  },
  {
   "cell_type": "markdown",
   "metadata": {},
   "source": [
    "**Передатчик аварийного локатора самолета (ELT) - это устройство, предназначенное для передачи сигнала в случае аварии. Компания A производит 80% всех ELT на рынке, компания B - 15%, а компания C - остальные 5%. Уровень дефектности ELT, произведенных компанией A, составляет 4%, компанией B - 6%, а компанией C - 9%. Случайно выбранный ELT был протестирован и оказался бракованным. Найдите вероятность того, что он был произведен компанией A. Округлите ответ до тысячных.**"
   ]
  },
  {
   "cell_type": "markdown",
   "metadata": {},
   "source": [
    "Элементы формулы:\n",
    "\n",
    "- **P(Y|X)** - вероятность, что этот бракованный ELT был сделан компанией A (**то, что мы ищем в задаче**)\n",
    "- **P(X|Y)** - вероятность, что если ELT делается компанией A, то он будет бракованный (**указана в условии**)\n",
    "- **P(Y)** - вероятность того, что любой ELT сделан именно компанией A (**также указана в условии**)\n",
    "- **P(X)** - вероятность бракованного ELT в принципе (**считаем по аналогии с прошлыми задачами, учитываем все три компании**)"
   ]
  },
  {
   "cell_type": "code",
   "execution_count": 35,
   "metadata": {},
   "outputs": [],
   "source": [
    "P_X_Y_A = 0.04 # дефектность A\n",
    "P_Y_A = 0.8 # производит А\n",
    "P_X_Y_B = 0.06 # дефектность B\n",
    "P_Y_B = 0.15 # производит B\n",
    "P_X_Y_C = 0.09 # дефектность C\n",
    "P_Y_C = 0.05 # производит C\n",
    "\n",
    "P_X = P_X_Y_A*P_Y_A + P_X_Y_B*P_Y_B + P_X_Y_C*P_Y_C #вероятность бракованного ELT в принципе"
   ]
  },
  {
   "cell_type": "code",
   "execution_count": 41,
   "metadata": {},
   "outputs": [],
   "source": [
    "P_Y_X = P_Y_A*P_X_Y_A / P_X"
   ]
  },
  {
   "cell_type": "code",
   "execution_count": 42,
   "metadata": {},
   "outputs": [
    {
     "data": {
      "text/plain": [
       "0.703"
      ]
     },
     "execution_count": 42,
     "metadata": {},
     "output_type": "execute_result"
    }
   ],
   "source": [
    "round(P_Y_X, 3)"
   ]
  },
  {
   "cell_type": "code",
   "execution_count": null,
   "metadata": {},
   "outputs": [],
   "source": []
  }
 ],
 "metadata": {
  "kernelspec": {
   "display_name": "Python 3",
   "language": "python",
   "name": "python3"
  },
  "language_info": {
   "codemirror_mode": {
    "name": "ipython",
    "version": 3
   },
   "file_extension": ".py",
   "mimetype": "text/x-python",
   "name": "python",
   "nbconvert_exporter": "python",
   "pygments_lexer": "ipython3",
   "version": "3.7.3"
  }
 },
 "nbformat": 4,
 "nbformat_minor": 4
}
